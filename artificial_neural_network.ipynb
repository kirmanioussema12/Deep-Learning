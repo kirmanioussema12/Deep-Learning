{
  "nbformat": 4,
  "nbformat_minor": 0,
  "metadata": {
    "colab": {
      "provenance": [],
      "authorship_tag": "ABX9TyNrn1K73ocZFqoRbhpWknWO",
      "include_colab_link": true
    },
    "kernelspec": {
      "name": "python3",
      "display_name": "Python 3"
    },
    "language_info": {
      "name": "python"
    }
  },
  "cells": [
    {
      "cell_type": "markdown",
      "metadata": {
        "id": "view-in-github",
        "colab_type": "text"
      },
      "source": [
        "<a href=\"https://colab.research.google.com/github/kirmanioussema12/Deep-Learning/blob/main/artificial_neural_network.ipynb\" target=\"_parent\"><img src=\"https://colab.research.google.com/assets/colab-badge.svg\" alt=\"Open In Colab\"/></a>"
      ]
    },
    {
      "cell_type": "code",
      "execution_count": 1,
      "metadata": {
        "id": "4f1tTGQd2mDa"
      },
      "outputs": [],
      "source": [
        "import numpy as np"
      ]
    },
    {
      "cell_type": "code",
      "source": [
        "np.random.seed(0)  # Pour la reproductibilité\n",
        "W1 = np.random.rand(2, 3) * 0.1\n",
        "W2 = np.random.rand(3, 2) * 0.1"
      ],
      "metadata": {
        "id": "ZEaWHNzV3VCk"
      },
      "execution_count": 2,
      "outputs": []
    },
    {
      "cell_type": "code",
      "source": [
        "def sigmoid(x):\n",
        "    return 1 / (1 + np.exp(-x))\n"
      ],
      "metadata": {
        "id": "belm2u6r3fM6"
      },
      "execution_count": 4,
      "outputs": []
    },
    {
      "cell_type": "code",
      "source": [
        "def sigmoid_derivative(x):\n",
        "    return x * (1 - x)"
      ],
      "metadata": {
        "id": "THTW63D33gmz"
      },
      "execution_count": 5,
      "outputs": []
    },
    {
      "cell_type": "code",
      "source": [
        "import numpy as np\n",
        "\n",
        "# Initialisation des poids\n",
        "np.random.seed(0)  # Pour la reproductibilité\n",
        "W1 = np.random.rand(2, 3) * 0.1\n",
        "W2 = np.random.rand(3, 2) * 0.1\n",
        "\n",
        "# Fonction d'activation sigmoïde\n",
        "def sigmoid(x):\n",
        "    return 1 / (1 + np.exp(-x))\n",
        "\n",
        "# Dérivée de la fonction d'activation\n",
        "def sigmoid_derivative(x):\n",
        "    return x * (1 - x)\n",
        "\n",
        "# Entrée\n",
        "x = np.array([1, 2, 3])\n",
        "\n",
        "# Sortie théorique\n",
        "y = np.array([0, 1, 0])\n",
        "\n",
        "# Paramètres d'apprentissage\n",
        "threshold = 0.01\n",
        "eta = 0.1\n",
        "max_iterations = 10000  # Limite d'itérations pour éviter les boucles infinies\n",
        "\n",
        "# Compteur d'itérations\n",
        "iterations = 0\n",
        "\n",
        "while True:\n",
        "    # Feedforward\n",
        "    z1 = np.dot(W1, x)\n",
        "    a1 = sigmoid(z1)\n",
        "    z2 = np.dot(W2, a1)\n",
        "    a2 = sigmoid(z2)  # Sortie réelle\n",
        "\n",
        "    # Calcul de l'erreur\n",
        "    error = a2 - y\n",
        "\n",
        "    # Vérification de l'erreur\n",
        "    if np.mean(np.abs(error)) < threshold or iterations >= max_iterations:\n",
        "        break\n",
        "\n",
        "    # Rétropropagation\n",
        "    delta2 = error * sigmoid_derivative(a2)\n",
        "    delta1 = np.dot(W2.T, delta2) * sigmoid_derivative(a1)\n",
        "\n",
        "    # Mise à jour des poids\n",
        "    W2 -= eta * np.outer(delta2, a1)\n",
        "    W1 -= eta * np.outer(delta1, x)\n",
        "\n",
        "    # Incrémenter le compteur d'itérations\n",
        "    iterations += 1\n",
        "\n",
        "# Affichage des résultats\n",
        "print(\"Sortie réelle après feedforward:\", a2)\n",
        "print(\"Erreur par rapport à la sortie théorique:\", error)\n",
        "print(\"Nombre d'itérations:\", iterations)\n",
        "print(\"Poids W1 finaux:\", W1)\n",
        "print(\"Poids W2 finaux:\", W2)\n"
      ],
      "metadata": {
        "colab": {
          "base_uri": "https://localhost:8080/"
        },
        "id": "zwnlT02347oM",
        "outputId": "5b8a86c6-910c-4897-b5a0-ef57a592f9e5"
      },
      "execution_count": 16,
      "outputs": [
        {
          "output_type": "stream",
          "name": "stdout",
          "text": [
            "Sortie réelle après feedforward: [0.01638466 0.98363047 0.01638425]\n",
            "Erreur par rapport à la sortie théorique: [ 0.01638466 -0.01636953  0.01638425]\n",
            "Nombre d'itérations: 10000\n",
            "Poids W1 finaux: [[0.34900142 0.65975908 0.94263656]\n",
            " [0.34796372 0.62931628 0.94501561]]\n",
            "Poids W2 finaux: [[-2.10860973 -2.03319402]\n",
            " [ 2.11383114  2.02891984]\n",
            " [-2.07278347 -2.06906828]]\n"
          ]
        }
      ]
    },
    {
      "cell_type": "code",
      "source": [],
      "metadata": {
        "id": "vU_RuXyR5GsF"
      },
      "execution_count": null,
      "outputs": []
    }
  ]
}