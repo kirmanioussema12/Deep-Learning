{
  "nbformat": 4,
  "nbformat_minor": 0,
  "metadata": {
    "colab": {
      "provenance": [],
      "authorship_tag": "ABX9TyO0NeK3A7RUpjfug/vjmYjF",
      "include_colab_link": true
    },
    "kernelspec": {
      "name": "python3",
      "display_name": "Python 3"
    },
    "language_info": {
      "name": "python"
    }
  },
  "cells": [
    {
      "cell_type": "markdown",
      "metadata": {
        "id": "view-in-github",
        "colab_type": "text"
      },
      "source": [
        "<a href=\"https://colab.research.google.com/github/kirmanioussema12/Deep-Learning/blob/main/Perceptron.ipynb\" target=\"_parent\"><img src=\"https://colab.research.google.com/assets/colab-badge.svg\" alt=\"Open In Colab\"/></a>"
      ]
    },
    {
      "cell_type": "code",
      "execution_count": 1,
      "metadata": {
        "id": "pUo3bze5xHDE"
      },
      "outputs": [],
      "source": [
        "import numpy as np\n",
        "import matplotlib.pyplot as plt\n",
        "\n",
        "# Créer des matrices représentant les chiffres de 0 à 9\n",
        "chiffres = {\n",
        "    0: np.array([[1, 1, 1],\n",
        "                 [1, 0, 1],\n",
        "                 [1, 0, 1],\n",
        "                 [1, 0, 1],\n",
        "                 [1, 1, 1]]),\n",
        "\n",
        "    1: np.array([[0, 1, 0],\n",
        "                 [1, 1, 0],\n",
        "                 [0, 1, 0],\n",
        "                 [0, 1, 0],\n",
        "                 [1, 1, 1]]),\n",
        "\n",
        "    2: np.array([[1, 1, 1],\n",
        "                 [0, 0, 1],\n",
        "                 [1, 1, 1],\n",
        "                 [1, 0, 0],\n",
        "                 [1, 1, 1]]),\n",
        "\n",
        "    3: np.array([[1, 1, 1],\n",
        "                 [0, 0, 1],\n",
        "                 [1, 1, 1],\n",
        "                 [0, 0, 1],\n",
        "                 [1, 1, 1]]),\n",
        "\n",
        "    4: np.array([[1, 0, 1],\n",
        "                 [1, 0, 1],\n",
        "                 [1, 1, 1],\n",
        "                 [0, 0, 1],\n",
        "                 [0, 0, 1]]),\n",
        "\n",
        "    5: np.array([[1, 1, 1],\n",
        "                 [1, 0, 0],\n",
        "                 [1, 1, 1],\n",
        "                 [0, 0, 1],\n",
        "                 [1, 1, 1]]),\n",
        "\n",
        "    6: np.array([[1, 1, 1],\n",
        "                 [1, 0, 0],\n",
        "                 [1, 1, 1],\n",
        "                 [1, 0, 1],\n",
        "                 [1, 1, 1]]),\n",
        "\n",
        "    7: np.array([[1, 1, 1],\n",
        "                 [0, 0, 1],\n",
        "                 [0, 0, 1],\n",
        "                 [0, 0, 1],\n",
        "                 [0, 0, 1]]),\n",
        "\n",
        "    8: np.array([[1, 1, 1],\n",
        "                 [1, 0, 1],\n",
        "                 [1, 1, 1],\n",
        "                 [1, 0, 1],\n",
        "                 [1, 1, 1]]),\n",
        "\n",
        "    9: np.array([[1, 1, 1],\n",
        "                 [1, 0, 1],\n",
        "                 [1, 1, 1],\n",
        "                 [0, 0, 1],\n",
        "                 [1, 1, 1]])\n",
        "}\n",
        "\n",
        "# Créer une fonction pour afficher les images\n",
        "def afficher_chiffres(chiffres):\n",
        "    fig, axes = plt.subplots(2, 5, figsize=(10, 5))\n",
        "    axes = axes.ravel()\n",
        "\n",
        "    for i, (chiffre, image) in enumerate(chiffres.items()):\n",
        "        axes[i].imshow(image, cmap='gray', vmin=0, vmax=1)\n",
        "        axes[i].set\n"
      ]
    },
    {
      "cell_type": "code",
      "source": [
        "afficher_chiffres(chiffres)\n"
      ],
      "metadata": {
        "colab": {
          "base_uri": "https://localhost:8080/",
          "height": 445
        },
        "id": "CadbC3aHyzmO",
        "outputId": "4f6d64f5-d831-4e8d-9547-a74a5282e2c1"
      },
      "execution_count": 3,
      "outputs": [
        {
          "output_type": "display_data",
          "data": {
            "text/plain": [
              "<Figure size 1000x500 with 10 Axes>"
            ],
            "image/png": "[encoded data removed]"
          },
          "metadata": {}
        }
      ]
    },
    {
      "cell_type": "code",
      "source": [
        "import numpy as np\n",
        "\n",
        "# Créer les matrices représentant les chiffres de 0 à 9\n",
        "chiffres = [\n",
        "    np.array([[1, 1, 1],\n",
        "              [1, 0, 1],\n",
        "              [1, 0, 1],\n",
        "              [1, 0, 1],\n",
        "              [1, 1, 1]]),\n",
        "\n",
        "    np.array([[0, 1, 0],\n",
        "              [1, 1, 0],\n",
        "              [0, 1, 0],\n",
        "              [0, 1, 0],\n",
        "              [1, 1, 1]]),\n",
        "\n",
        "    np.array([[1, 1, 1],\n",
        "              [0, 0, 1],\n",
        "              [1, 1, 1],\n",
        "              [1, 0, 0],\n",
        "              [1, 1, 1]]),\n",
        "\n",
        "    np.array([[1, 1, 1],\n",
        "              [0, 0, 1],\n",
        "              [1, 1, 1],\n",
        "              [0, 0, 1],\n",
        "              [1, 1, 1]]),\n",
        "\n",
        "    np.array([[1, 0, 1],\n",
        "              [1, 0, 1],\n",
        "              [1, 1, 1],\n",
        "              [0, 0, 1],\n",
        "              [0, 0, 1]]),\n",
        "\n",
        "    np.array([[1, 1, 1],\n",
        "              [1, 0, 0],\n",
        "              [1, 1, 1],\n",
        "              [0, 0, 1],\n",
        "              [1, 1, 1]]),\n",
        "\n",
        "    np.array([[1, 1, 1],\n",
        "              [1, 0, 0],\n",
        "              [1, 1, 1],\n",
        "              [1, 0, 1],\n",
        "              [1, 1, 1]]),\n",
        "\n",
        "    np.array([[1, 1, 1],\n",
        "              [0, 0, 1],\n",
        "              [0, 0, 1],\n",
        "              [0, 0, 1],\n",
        "              [0, 0, 1]]),\n",
        "\n",
        "    np.array([[1, 1, 1],\n",
        "              [1, 0, 1],\n",
        "              [1, 1, 1],\n",
        "              [1, 0, 1],\n",
        "              [1, 1, 1]]),\n",
        "\n",
        "    np.array([[1, 1, 1],\n",
        "              [1, 0, 1],\n",
        "              [1, 1, 1],\n",
        "              [0, 0, 1],\n",
        "              [1, 1, 1]])\n",
        "]\n",
        "\n",
        "# Convertir la liste de matrices en un tenseur 3D\n",
        "tenseur_chiffres = np.array(chiffres)\n",
        "\n",
        "\n",
        "# Afficher la forme du tenseur pour s'assurer qu'il est correct\n",
        "print(\"Forme du tenseur:\", tenseur_chiffres.shape)\n",
        "\n",
        "# Afficher le tenseur lui-même pour vérifier\n",
        "print(\"\\nTenseur:\\n\", tenseur_chiffres)\n"
      ],
      "metadata": {
        "colab": {
          "base_uri": "https://localhost:8080/"
        },
        "id": "DbBSE4joy8bE",
        "outputId": "5afb743a-e25a-42ba-cbfa-31006d3c9d6c"
      },
      "execution_count": 4,
      "outputs": [
        {
          "output_type": "stream",
          "name": "stdout",
          "text": [
            "Forme du tenseur: (10, 5, 3)\n",
            "\n",
            "Tenseur:\n",
            " [[[1 1 1]\n",
            "  [1 0 1]\n",
            "  [1 0 1]\n",
            "  [1 0 1]\n",
            "  [1 1 1]]\n",
            "\n",
            " [[0 1 0]\n",
            "  [1 1 0]\n",
            "  [0 1 0]\n",
            "  [0 1 0]\n",
            "  [1 1 1]]\n",
            "\n",
            " [[1 1 1]\n",
            "  [0 0 1]\n",
            "  [1 1 1]\n",
            "  [1 0 0]\n",
            "  [1 1 1]]\n",
            "\n",
            " [[1 1 1]\n",
            "  [0 0 1]\n",
            "  [1 1 1]\n",
            "  [0 0 1]\n",
            "  [1 1 1]]\n",
            "\n",
            " [[1 0 1]\n",
            "  [1 0 1]\n",
            "  [1 1 1]\n",
            "  [0 0 1]\n",
            "  [0 0 1]]\n",
            "\n",
            " [[1 1 1]\n",
            "  [1 0 0]\n",
            "  [1 1 1]\n",
            "  [0 0 1]\n",
            "  [1 1 1]]\n",
            "\n",
            " [[1 1 1]\n",
            "  [1 0 0]\n",
            "  [1 1 1]\n",
            "  [1 0 1]\n",
            "  [1 1 1]]\n",
            "\n",
            " [[1 1 1]\n",
            "  [0 0 1]\n",
            "  [0 0 1]\n",
            "  [0 0 1]\n",
            "  [0 0 1]]\n",
            "\n",
            " [[1 1 1]\n",
            "  [1 0 1]\n",
            "  [1 1 1]\n",
            "  [1 0 1]\n",
            "  [1 1 1]]\n",
            "\n",
            " [[1 1 1]\n",
            "  [1 0 1]\n",
            "  [1 1 1]\n",
            "  [0 0 1]\n",
            "  [1 1 1]]]\n"
          ]
        }
      ]
    },
    {
      "cell_type": "code",
      "source": [
        "tenseur_reshape = tenseur_chiffres.reshape(10, 15)"
      ],
      "metadata": {
        "id": "gVuN4Jkd0LdF"
      },
      "execution_count": 5,
      "outputs": []
    },
    {
      "cell_type": "code",
      "source": [
        "tenseur_reshape[0]"
      ],
      "metadata": {
        "colab": {
          "base_uri": "https://localhost:8080/"
        },
        "id": "iGUbq1to0mPG",
        "outputId": "80e6ad09-9287-463b-bb46-46472a9dcdd0"
      },
      "execution_count": 7,
      "outputs": [
        {
          "output_type": "execute_result",
          "data": {
            "text/plain": [
              "array([1, 1, 1, 1, 0, 1, 1, 0, 1, 1, 0, 1, 1, 1, 1])"
            ]
          },
          "metadata": {},
          "execution_count": 7
        }
      ]
    },
    {
      "cell_type": "code",
      "source": [
        "tenseur_reshape[4]"
      ],
      "metadata": {
        "colab": {
          "base_uri": "https://localhost:8080/"
        },
        "id": "wBY2lbzO9ZCL",
        "outputId": "340829fd-1d99-4a2d-969e-96e28ccf3133"
      },
      "execution_count": 32,
      "outputs": [
        {
          "output_type": "execute_result",
          "data": {
            "text/plain": [
              "array([1, 0, 1, 1, 0, 1, 1, 1, 1, 0, 0, 1, 0, 0, 1])"
            ]
          },
          "metadata": {},
          "execution_count": 32
        }
      ]
    },
    {
      "cell_type": "code",
      "source": [
        "w = np.random.rand(15, 10)\n",
        "\n",
        "# Afficher la matrice d'activation\n",
        "print(\"Matrice d'activation:\\n\", w)"
      ],
      "metadata": {
        "colab": {
          "base_uri": "https://localhost:8080/"
        },
        "id": "pJm5Q-ZC0plw",
        "outputId": "fd2b9a44-2e3a-4b54-df1e-184fe2315012"
      },
      "execution_count": 9,
      "outputs": [
        {
          "output_type": "stream",
          "name": "stdout",
          "text": [
            "Matrice d'activation:\n",
            " [[8.41950105e-01 2.48662266e-01 7.66537621e-01 2.33605832e-01\n",
            "  2.16622222e-01 6.91617381e-01 5.45438669e-01 1.11116616e-02\n",
            "  9.48356229e-01 8.44465762e-01]\n",
            " [9.40499193e-01 4.30136755e-04 1.15328585e-02 6.53552311e-01\n",
            "  7.37390133e-01 4.00118453e-01 5.92582891e-01 4.53403119e-01\n",
            "  6.17152779e-01 4.84837288e-01]\n",
            " [4.10726777e-01 5.90599618e-01 5.55976549e-02 8.95668692e-01\n",
            "  3.24152834e-01 4.07415620e-01 4.73330186e-01 8.06474034e-02\n",
            "  6.18596019e-01 3.36803769e-01]\n",
            " [4.77920551e-01 1.44831109e-01 8.53755677e-01 3.80663118e-01\n",
            "  6.34307168e-01 7.90507689e-01 7.02484545e-01 5.28192142e-02\n",
            "  3.10796656e-01 1.74183107e-01]\n",
            " [8.04428010e-01 1.09906739e-02 6.85457875e-01 9.35734115e-01\n",
            "  1.88117700e-01 8.03362502e-01 4.69430835e-01 5.09070450e-01\n",
            "  2.59067439e-01 4.37641609e-01]\n",
            " [6.51385595e-01 7.78169862e-01 9.74003209e-01 8.70381615e-01\n",
            "  4.40752907e-01 4.53851541e-01 8.55986781e-01 7.58485423e-01\n",
            "  9.27196213e-01 3.20420120e-01]\n",
            " [7.83601890e-01 3.63996310e-01 6.41471830e-01 1.93718957e-01\n",
            "  9.43887615e-01 3.69522174e-01 7.26821696e-01 4.56977895e-01\n",
            "  7.50156537e-01 6.51369340e-01]\n",
            " [7.24241067e-01 4.82399642e-01 8.28087242e-02 7.76128884e-01\n",
            "  4.46310966e-01 8.26636735e-01 5.20098588e-01 4.58312878e-01\n",
            "  7.97606682e-02 7.01240713e-01]\n",
            " [2.02952754e-01 7.50236621e-01 3.05215385e-01 9.12437522e-01\n",
            "  7.81664578e-01 5.30824153e-01 3.51638812e-01 6.76695946e-01\n",
            "  6.25323031e-01 7.22544093e-01]\n",
            " [7.19357891e-02 7.49942026e-01 3.68368359e-01 2.93319597e-01\n",
            "  5.21640096e-01 4.37657469e-01 9.17583703e-01 5.05455199e-01\n",
            "  6.11550629e-01 8.84024375e-01]\n",
            " [6.09066136e-01 5.53570606e-01 6.21838103e-01 3.96276572e-01\n",
            "  4.57159033e-01 5.78825539e-01 1.45759973e-01 8.73791146e-01\n",
            "  4.66149851e-01 2.93750433e-01]\n",
            " [5.03565259e-01 8.46589898e-01 3.30308875e-01 3.75952664e-01\n",
            "  3.55664154e-01 5.37044230e-01 2.40520917e-01 1.52581612e-01\n",
            "  6.76745377e-01 7.23212002e-01]\n",
            " [7.36557700e-01 2.82534342e-01 7.56335874e-01 7.15956888e-01\n",
            "  4.68411656e-01 4.42045902e-01 2.38588991e-01 5.66787411e-01\n",
            "  3.19760642e-01 7.17510849e-01]\n",
            " [4.01257010e-01 4.33354193e-01 9.67210374e-01 8.68119587e-01\n",
            "  9.08036470e-01 5.06994796e-01 8.50906896e-01 7.35013204e-01\n",
            "  3.78767751e-03 1.94291294e-01]\n",
            " [5.35819584e-01 4.40419817e-01 8.52179185e-01 4.60375260e-01\n",
            "  2.48037320e-01 7.50676915e-01 2.99156275e-01 5.46982509e-01\n",
            "  6.15448725e-01 2.11279047e-03]]\n"
          ]
        }
      ]
    },
    {
      "cell_type": "code",
      "source": [
        "def sigmoid(x):\n",
        "    return 1 / (1 + np.exp(-x))"
      ],
      "metadata": {
        "id": "2sBSUaIS1Gbo"
      },
      "execution_count": 10,
      "outputs": []
    },
    {
      "cell_type": "code",
      "source": [
        "resultat = sigmoid(np.dot(tenseur_reshape, w))\n"
      ],
      "metadata": {
        "id": "lSaWQkfd19Ns"
      },
      "execution_count": 11,
      "outputs": []
    },
    {
      "cell_type": "code",
      "source": [
        "print(\"Résultats après application de la sigmoïde (probabilités):\\n\", resultat)"
      ],
      "metadata": {
        "colab": {
          "base_uri": "https://localhost:8080/"
        },
        "id": "dR2QxfXM2Bdt",
        "outputId": "09302411-692a-49d4-d853-6f41364aa1dc"
      },
      "execution_count": 12,
      "outputs": [
        {
          "output_type": "stream",
          "name": "stdout",
          "text": [
            "Résultats après application de la sigmoïde (probabilités):\n",
            " [[0.99858353 0.99642342 0.99897549 0.99894562 0.99861486 0.9982002\n",
            "  0.99888194 0.99328691 0.99911131 0.9976612 ]\n",
            " [0.99467387 0.91281735 0.99208555 0.99444124 0.98350021 0.99393519\n",
            "  0.97852189 0.98517026 0.9353495  0.95282504]\n",
            " [0.99816876 0.99406387 0.99692466 0.99896598 0.99761676 0.99703338\n",
            "  0.9982944  0.99477921 0.99779999 0.99715579]\n",
            " [0.99880994 0.99460779 0.99680574 0.99904791 0.99718768 0.99731329\n",
            "  0.99664877 0.99258641 0.99793855 0.99666123]\n",
            " [0.99413088 0.99049046 0.99232344 0.99393377 0.98776809 0.99531222\n",
            "  0.99112389 0.96063111 0.99613676 0.9887531 ]\n",
            " [0.99858483 0.98988985 0.99639906 0.99844726 0.99768143 0.9980798\n",
            "  0.99609494 0.98509928 0.99618839 0.9961375 ]\n",
            " [0.99868293 0.99519841 0.99750588 0.99884153 0.99862253 0.99875958\n",
            "  0.99843633 0.99095797 0.99792855 0.99840071]\n",
            " [0.98348607 0.97479312 0.9642698  0.98789519 0.95706912 0.97750144\n",
            "  0.9663871  0.93583058 0.99349604 0.96876237]\n",
            " [0.99931295 0.99778915 0.99905683 0.99951452 0.99911309 0.99921176\n",
            "  0.99933505 0.99574448 0.99917938 0.99883866]\n",
            " [0.99926174 0.99533143 0.99863735 0.99934914 0.99850665 0.99877948\n",
            "  0.99833715 0.99296514 0.99848841 0.99719346]]\n"
          ]
        }
      ]
    },
    {
      "cell_type": "code",
      "source": [
        "def sigmoid_derivative(x):\n",
        "    return sigmoid(x) * (1 - sigmoid(x))"
      ],
      "metadata": {
        "id": "i1CdHOBX2DWf"
      },
      "execution_count": 13,
      "outputs": []
    },
    {
      "cell_type": "code",
      "source": [
        "alpha = 0.1  # Taux d'apprentissage\n",
        "epochs = 1000  # Nombre d'itérations\n",
        "T = np.random.randint(0, 2, (10, 10))"
      ],
      "metadata": {
        "id": "YYbiAle427nj"
      },
      "execution_count": 15,
      "outputs": []
    },
    {
      "cell_type": "code",
      "source": [
        "for epoch in range(epochs):\n",
        "    # Produit matriciel entre les entrées et la matrice d'activation (pour obtenir les sorties O)\n",
        "    O = sigmoid(np.dot(tenseur_reshape, w))\n",
        "\n",
        "    # Calcul de l'erreur (T - O)\n",
        "    erreur = T - O\n",
        "\n",
        "    # Mise à jour des poids : w(i+1) = w(i) + alpha * (T - O) * sigmoid_derivative(O)\n",
        "    w += alpha * np.dot(tenseur_reshape.T, erreur * sigmoid_derivative(O))\n",
        "\n",
        "    # Afficher l'erreur tous les 100 epochs\n",
        "    if epoch % 100 == 0:\n",
        "        loss = np.mean(np.abs(erreur))  # Moyenne de l'erreur absolue\n",
        "        print(f'Epoch {epoch}, Erreur moyenne: {loss}')"
      ],
      "metadata": {
        "colab": {
          "base_uri": "https://localhost:8080/"
        },
        "id": "juQC9I902-lT",
        "outputId": "d96399d0-6e8f-4e8a-cdfe-277a4819e087"
      },
      "execution_count": 16,
      "outputs": [
        {
          "output_type": "stream",
          "name": "stdout",
          "text": [
            "Epoch 0, Erreur moyenne: 0.4129818236364621\n",
            "Epoch 100, Erreur moyenne: 0.22178124930280568\n",
            "Epoch 200, Erreur moyenne: 0.17095777629993833\n",
            "Epoch 300, Erreur moyenne: 0.1449730114268789\n",
            "Epoch 400, Erreur moyenne: 0.1284448076307733\n",
            "Epoch 500, Erreur moyenne: 0.11674522752102087\n",
            "Epoch 600, Erreur moyenne: 0.10791337427129934\n",
            "Epoch 700, Erreur moyenne: 0.10095584094728262\n",
            "Epoch 800, Erreur moyenne: 0.09530694150465453\n",
            "Epoch 900, Erreur moyenne: 0.09061634503031024\n"
          ]
        }
      ]
    },
    {
      "cell_type": "code",
      "source": [
        "def prediction(nouvelle_entree):\n",
        "    sortie = sigmoid(np.dot(nouvelle_entree, w))\n",
        "    return sortie\n",
        "\n",
        "# Exemple de prédiction avec une nouvelle image aplatie (vecteur de 15 éléments)\n",
        "nouvelle_image = np.random.rand(1, 15)  # Exemple de nouvelle entrée\n",
        "prediction_result = prediction(nouvelle_image)\n",
        "\n",
        "print(\"\\nPrédiction pour une nouvelle image:\\n\", prediction_result)"
      ],
      "metadata": {
        "colab": {
          "base_uri": "https://localhost:8080/"
        },
        "id": "qEkS3Cr_3NtM",
        "outputId": "ac7d692d-1a55-4a92-f1ff-daca8cd7be68"
      },
      "execution_count": 18,
      "outputs": [
        {
          "output_type": "stream",
          "name": "stdout",
          "text": [
            "\n",
            "Prédiction pour une nouvelle image:\n",
            " [[0.59627554 0.97905602 0.40167229 0.99320423 0.99251429 0.9941409\n",
            "  0.70391877 0.36706646 0.99583798 0.01887075]]\n"
          ]
        }
      ]
    },
    {
      "cell_type": "code",
      "source": [
        "def visualiser_prediction(image, prediction, vrai_label):\n",
        "    plt.figure(figsize=(6, 3))\n",
        "\n",
        "    # Afficher l'image (vecteur aplati reconstruit en matrice)\n",
        "    plt.subplot(1, 2, 1)\n",
        "    plt.imshow(image.reshape(5, 3), cmap='gray', vmin=0, vmax=1)\n",
        "    plt.title(\"Image d'entrée\")\n",
        "    plt.axis('off')  # Désactiver les axes pour une meilleure visibilité\n",
        "\n",
        "    # Afficher la prédiction sous forme de barres\n",
        "    plt.subplot(1, 2, 2)\n",
        "    indices = np.arange(len(prediction[0]))\n",
        "    plt.bar(indices - 0.2, prediction[0], width=0.4, color='blue', alpha=0.6, label='Prédiction')\n",
        "    plt.bar(indices + 0.2, vrai_label[0], width=0.4, color='red', alpha=0.3, label='Vrai Label')\n",
        "    plt.xlabel('Classes (0-9)')\n",
        "    plt.ylabel('Probabilité')\n",
        "    plt.title(\"Prédiction vs Vrai Label\")\n",
        "    plt.xticks(indices)  # Afficher les indices sur l'axe des x\n",
        "    plt.legend()\n",
        "\n",
        "    plt.tight_layout()\n",
        "    plt.show()\n",
        "\n",
        "# Exemple d'une nouvelle image (test)\n",
        "nouvelle_image = np.array([1, 1, 1, 1, 0, 1, 1, 0, 1, 1, 0, 1, 1, 1, 1])\n",
        "\n",
        "  # Exemple de nouvelle entrée (vecteur de 15 éléments)\n",
        "vrai_label = np.random.randint(0, 2, (1, 10))  # Vrai label aléatoire pour le test\n",
        "\n",
        "# Prédiction avec le modèle entraîné\n",
        "prediction_result = sigmoid(np.dot(nouvelle_image.reshape(1, -1), w))\n",
        "\n",
        "# Visualiser la prédiction\n",
        "visualiser_prediction(nouvelle_image, prediction_result, vrai_label)"
      ],
      "metadata": {
        "colab": {
          "base_uri": "https://localhost:8080/",
          "height": 307
        },
        "id": "2GPZyNdV3Rpc",
        "outputId": "c11d7991-9838-49fb-83e0-22880ea54c06"
      },
      "execution_count": 22,
      "outputs": [
        {
          "output_type": "display_data",
          "data": {
            "text/plain": [
              "<Figure size 600x300 with 2 Axes>"
            ],
            "image/png": "[encoded data removed]"
          },
          "metadata": {}
        }
      ]
    },
    {
      "cell_type": "code",
      "source": [
        "import numpy as np\n",
        "import matplotlib.pyplot as plt\n",
        "\n",
        "# Fonction sigmoïde (déjà définie précédemment)\n",
        "def sigmoid(x):\n",
        "    return 1 / (1 + np.exp(-x))\n",
        "\n",
        "# Fonction pour afficher la prédiction\n",
        "def visualiser_prediction(image, prediction, vrai_label):\n",
        "    plt.figure(figsize=(6, 3))\n",
        "\n",
        "    # Afficher l'image (vecteur aplati reconstruit en matrice)\n",
        "    plt.subplot(1, 2, 1)\n",
        "    plt.imshow(image.reshape(5, 3), cmap='gray', vmin=0, vmax=1)\n",
        "    plt.title(\"Image d'entrée\")\n",
        "    plt.axis('off')  # Désactiver les axes pour une meilleure visibilité\n",
        "\n",
        "    # Afficher la prédiction sous forme de barres\n",
        "    plt.subplot(1, 2, 2)\n",
        "    indices = np.arange(len(prediction[0]))\n",
        "    plt.bar(indices - 0.2, prediction[0], width=0.4, color='blue', alpha=0.6, label='Prédiction')\n",
        "    plt.bar(indices + 0.2, vrai_label[0], width=0.4, color='red', alpha=0.3, label='Vrai Label')\n",
        "    plt.xlabel('Classes (0-9)')\n",
        "    plt.ylabel('Probabilité')\n",
        "    plt.title(\"Prédiction vs Vrai Label\")\n",
        "    plt.xticks(indices)  # Afficher les indices sur l'axe des x\n",
        "    plt.legend()\n",
        "\n",
        "    plt.tight_layout()\n",
        "    plt.show()\n",
        "\n",
        "# Exemple d'une nouvelle image (test) - un seul chiffre\n",
        "nouvelle_image = np.array([1, 1, 1, 1, 0, 1, 1, 0, 1, 1, 0, 1, 1, 1, 1])  # Exemple représentant un chiffre\n",
        "\n",
        "# Vrai label pour le test (ici je vais simuler qu'on attend le chiffre 7)\n",
        "vrai_label = np.array([[0, 0, 0, 0, 0, 0, 0, 1, 0, 0]])  # Suppose que le vrai label est 7\n",
        "\n",
        "# Matrice de poids (doit être définie, supposons une matrice de 15x10 aléatoire pour l'exemple)\n",
        "np.random.seed(0)  # Pour la reproductibilité\n",
        "w = np.random.rand(15, 10)  # Remplacer par vos poids réels si disponibles\n",
        "\n",
        "# Prédiction avec le modèle entraîné\n",
        "prediction_result = sigmoid(np.dot(nouvelle_image.reshape(1, -1), w))\n",
        "\n",
        "# Afficher la prédiction et la valeur prédit\n",
        "print(\"Valeur prédite (probabilités) : \", prediction_result)\n",
        "print(\"Valeur prédite (classe) : \", np.argmax(prediction_result))  # Classe avec la plus haute probabilité\n",
        "\n",
        "# Visualiser la prédiction\n",
        "visualiser_prediction(nouvelle_image, prediction_result, vrai_label)\n"
      ],
      "metadata": {
        "colab": {
          "base_uri": "https://localhost:8080/",
          "height": 359
        },
        "id": "dNfbFQfp3s5f",
        "outputId": "33d47cb3-6fcf-40d9-9a8d-59dbb7a641b0"
      },
      "execution_count": 23,
      "outputs": [
        {
          "output_type": "stream",
          "name": "stdout",
          "text": [
            "Valeur prédite (probabilités) :  [[0.99868994 0.99863084 0.99788374 0.99864162 0.98908922 0.99486668\n",
            "  0.99537648 0.99798671 0.99985298 0.99761775]]\n",
            "Valeur prédite (classe) :  8\n"
          ]
        },
        {
          "output_type": "display_data",
          "data": {
            "text/plain": [
              "<Figure size 600x300 with 2 Axes>"
            ],
            "image/png": "[encoded data removed]"
          },
          "metadata": {}
        }
      ]
    },
    {
      "cell_type": "code",
      "source": [
        "import numpy as np\n",
        "import matplotlib.pyplot as plt\n",
        "\n",
        "# Générer les données d'exemple\n",
        "def generate_data():\n",
        "    # 10 images représentant les chiffres de 0 à 9\n",
        "    chiffres = np.array([\n",
        "        [1, 1, 1, 1, 0, 1, 1, 0, 1, 1, 0, 1, 1, 1, 1],  # Chiffre 0\n",
        "        [0, 0, 1, 0, 0, 1, 0, 0, 1, 0, 0, 0, 0, 0, 0],  # Chiffre 1\n",
        "        [1, 1, 1, 0, 1, 1, 1, 0, 1, 1, 0, 0, 0, 0, 0],  # Chiffre 2\n",
        "        [1, 1, 1, 0, 1, 1, 0, 1, 1, 1, 0, 1, 1, 1, 1],  # Chiffre 3\n",
        "        [1, 1, 0, 1, 1, 1, 0, 0, 1, 0, 0, 0, 0, 0, 0],  # Chiffre 4\n",
        "        [1, 1, 1, 1, 0, 0, 0, 1, 1, 1, 0, 1, 1, 1, 1],  # Chiffre 5\n",
        "        [1, 1, 1, 1, 1, 1, 1, 0, 1, 1, 1, 0, 1, 1, 1],  # Chiffre 6\n",
        "        [1, 1, 1, 0, 0, 1, 0, 0, 1, 0, 0, 0, 0, 0, 0],  # Chiffre 7\n",
        "        [1, 1, 1, 1, 0, 1, 1, 1, 1, 1, 1, 0, 1, 1, 1],  # Chiffre 8\n",
        "        [1, 1, 1, 0, 1, 1, 0, 1, 1, 1, 0, 1, 1, 1, 0],  # Chiffre 9\n",
        "    ])\n",
        "    # Labels pour chaque image (one-hot encoding)\n",
        "    labels = np.eye(10)  # Matrice d'identité pour les chiffres 0 à 9\n",
        "    return chiffres, labels\n",
        "\n",
        "# Fonction pour entraîner le modèle\n",
        "def train_model(data, labels, alpha=0.1, epochs=1000):\n",
        "    # Initialiser les poids (15 lignes, 10 colonnes)\n",
        "    w = np.random.rand(15, 10)\n",
        "    for epoch in range(epochs):\n",
        "        for i in range(len(data)):\n",
        "            # Calculer la sortie (O)\n",
        "            O = np.dot(data[i], w)\n",
        "            # Mise à jour des poids\n",
        "            w += alpha * np.outer(data[i], (labels[i] - O))  # Ajustement basé sur la différence\n",
        "    return w\n",
        "\n",
        "# Fonction pour faire des prédictions\n",
        "def predict(image, w):\n",
        "    return np.dot(image, w)\n",
        "\n",
        "# Visualiser la prédiction\n",
        "def visualiser_prediction(image, prediction, vrai_label):\n",
        "    plt.figure(figsize=(6, 3))\n",
        "\n",
        "    # Afficher l'image (vecteur aplati reconstruit en matrice)\n",
        "    plt.subplot(1, 2, 1)\n",
        "    plt.imshow(image.reshape(5, 3), cmap='gray', vmin=0, vmax=1)\n",
        "    plt.title(\"Image d'entrée\")\n",
        "    plt.axis('off')  # Désactiver les axes pour une meilleure visibilité\n",
        "\n",
        "    # Afficher la prédiction sous forme de barres\n",
        "    plt.subplot(1, 2, 2)\n",
        "    indices = np.arange(len(prediction))\n",
        "    plt.bar(indices, prediction, width=0.4, color='blue', alpha=0.6, label='Prédiction')\n",
        "    #plt.bar(indices, vrai_label[0], width=0.4, color='red', alpha=0.3, label='Vrai Label')\n",
        "    plt.xlabel('Classes (0-9)')\n",
        "    plt.ylabel('Activation')\n",
        "    plt.title(\"Prédiction vs Vrai Label\")\n",
        "    plt.xticks(indices)  # Afficher les indices sur l'axe des x\n",
        "    plt.legend()\n",
        "\n",
        "    plt.tight_layout()\n",
        "    plt.show()\n",
        "\n",
        "# Générer les données\n",
        "data, labels = generate_data()\n",
        "\n",
        "# Entraîner le modèle\n",
        "w = train_model(data, labels, alpha=0.01, epochs=1000)\n",
        "\n",
        "# Prédiction avec un nouvel exemple\n",
        "nouvelle_image = tenseur_reshape[5] # Exemple pour le chiffre 3\n",
        "vrai_label = labels[5].reshape(1, -1)  # Vrai label pour le test\n",
        "\n",
        "# Faire une prédiction\n",
        "prediction_result = predict(nouvelle_image, w)\n",
        "\n",
        "# Afficher la valeur prédit\n",
        "print(\"Valeur prédite (activations) : \", prediction_result)\n",
        "print(\"Valeur prédite (classe) : \", np.argmax(prediction_result))  # Classe avec la plus haute activation\n",
        "\n",
        "# Visualiser la prédiction\n",
        "visualiser_prediction(nouvelle_image, prediction_result, vrai_label)\n"
      ],
      "metadata": {
        "colab": {
          "base_uri": "https://localhost:8080/",
          "height": 359
        },
        "id": "4JMm3WI564pe",
        "outputId": "670feaab-c257-4636-c3b0-55a8af2cc1fc"
      },
      "execution_count": 43,
      "outputs": [
        {
          "output_type": "stream",
          "name": "stdout",
          "text": [
            "Valeur prédite (activations) :  [ 0.53732491 -0.31937136  0.11184699 -0.10582857  1.25534525  1.00571764\n",
            "  0.27977416  0.48836707  0.30658335  0.50199666]\n",
            "Valeur prédite (classe) :  4\n"
          ]
        },
        {
          "output_type": "display_data",
          "data": {
            "text/plain": [
              "<Figure size 600x300 with 2 Axes>"
            ],
            "image/png": "[encoded data removed]"
          },
          "metadata": {}
        }
      ]
    },
    {
      "cell_type": "code",
      "source": [
        "data[4]"
      ],
      "metadata": {
        "colab": {
          "base_uri": "https://localhost:8080/"
        },
        "id": "adFHlIG97Ybr",
        "outputId": "7e663fa2-a820-4a15-e553-4c9a6632dd15"
      },
      "execution_count": 27,
      "outputs": [
        {
          "output_type": "execute_result",
          "data": {
            "text/plain": [
              "array([1, 1, 0, 1, 1, 1, 0, 0, 1, 0, 0, 0, 0, 0, 0])"
            ]
          },
          "metadata": {},
          "execution_count": 27
        }
      ]
    },
    {
      "cell_type": "markdown",
      "source": [],
      "metadata": {
        "id": "CjF1-HSD8YfS"
      }
    },
    {
      "cell_type": "code",
      "source": [
        "import numpy as np\n",
        "import matplotlib.pyplot as plt\n",
        "\n",
        "# Vecteur à visualiser\n",
        "vecteur = np.array([1, 1, 0, 1, 1, 1, 0, 0, 1, 0, 0, 0, 0, 0, 0])\n",
        "\n",
        "# Reshape du vecteur en une matrice de forme (5, 3)\n",
        "matrice = vecteur.reshape(5, 3)\n",
        "\n",
        "def afficher_chiffres(chiffres):\n",
        "    fig, axes = plt.subplots(2, 5, figsize=(10, 5))\n",
        "    axes = axes.ravel()\n",
        "\n",
        "    for i, (chiffre, image) in enumerate(chiffres.items()):\n",
        "        axes[i].imshow(image, cmap='gray', vmin=0, vmax=1)\n",
        "        axes[i].set\n"
      ],
      "metadata": {
        "colab": {
          "base_uri": "https://localhost:8080/",
          "height": 444
        },
        "id": "E0D4Jfvu8KK6",
        "outputId": "42c27a47-7a05-4be4-fbb1-e8401f8c4123"
      },
      "execution_count": 28,
      "outputs": [
        {
          "output_type": "display_data",
          "data": {
            "text/plain": [
              "<Figure size 500x500 with 1 Axes>"
            ],
            "image/png": "[encoded data removed]"
          },
          "metadata": {}
        }
      ]
    },
    {
      "cell_type": "code",
      "source": [
        "import numpy as np\n",
        "import matplotlib.pyplot as plt\n",
        "\n",
        "def afficher_image(vecteur):\n",
        "    # Reshape du vecteur en une matrice de forme (5, 3)\n",
        "    matrice = vecteur.reshape(5, 3)\n",
        "\n",
        "    # Afficher l'image\n",
        "    plt.figure(figsize=(5, 5))\n",
        "    plt.imshow(matrice, cmap='gray', vmin=0, vmax=1)\n",
        "    plt.title(\"Visualisation de l'image\")\n",
        "    plt.axis('off')  # Désactiver les axes pour une meilleure visibilité\n",
        "    plt.show()\n",
        "\n",
        "# Vecteur à visualiser\n",
        "vecteur = tenseur_reshape[7]\n",
        "\n",
        "\n",
        "# Afficher l'image\n",
        "afficher_image(vecteur)\n"
      ],
      "metadata": {
        "colab": {
          "base_uri": "https://localhost:8080/",
          "height": 444
        },
        "id": "mNU1wqai9BoU",
        "outputId": "fc8c3a0d-63f8-4b55-d390-deea6b395187"
      },
      "execution_count": 39,
      "outputs": [
        {
          "output_type": "display_data",
          "data": {
            "text/plain": [
              "<Figure size 500x500 with 1 Axes>"
            ],
            "image/png": "[encoded data removed]"
          },
          "metadata": {}
        }
      ]
    },
    {
      "cell_type": "markdown",
      "source": [],
      "metadata": {
        "id": "HEDwnp9-9Bac"
      }
    }
  ]
}